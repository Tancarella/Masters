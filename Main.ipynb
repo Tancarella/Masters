{
 "cells": [
  {
   "cell_type": "code",
   "execution_count": 97,
   "metadata": {},
   "outputs": [],
   "source": [
    "import math\n",
    "import random\n",
    "import pandas as pd\n",
    "import numpy as np\n",
    "import matplotlib.pyplot as plt\n",
    "from os.path import exists"
   ]
  },
  {
   "cell_type": "markdown",
   "metadata": {},
   "source": [
    "### Definition of reference potential"
   ]
  },
  {
   "cell_type": "code",
   "execution_count": 98,
   "metadata": {},
   "outputs": [],
   "source": [
    "class potential:\n",
    "    def __init__(self, x, y, q):\n",
    "        self.point_x = x\n",
    "        self.point_y = y\n",
    "        self.point_charge = q"
   ]
  },
  {
   "cell_type": "markdown",
   "metadata": {},
   "source": [
    "### Object for many potentials"
   ]
  },
  {
   "cell_type": "code",
   "execution_count": 99,
   "metadata": {},
   "outputs": [],
   "source": [
    "class MUL_potential:\n",
    "    def __init__(self, x_arr: np.array([]), y_arr: np.array([]), charge_arr: np.array([])):\n",
    "        if(len(x_arr) != len(y_arr) or len(x_arr) != len(charge_arr)):\n",
    "            print(\"Can't initialize using arrays of different length.\")\n",
    "\n",
    "        else:\n",
    "            self.potentials = np.array([])\n",
    "\n",
    "            for i in range(0, len(x_arr)):\n",
    "                self.potentials = np.append(self.potentials, potential(x_arr[i], y_arr[i], charge_arr[i]))"
   ]
  },
  {
   "cell_type": "markdown",
   "metadata": {},
   "source": [
    "### Definition of particle"
   ]
  },
  {
   "cell_type": "code",
   "execution_count": 100,
   "metadata": {},
   "outputs": [],
   "source": [
    "class particle:\n",
    "    def __init__(self, alpha, d, q):\n",
    "        self.particle_angle = alpha\n",
    "        self.particle_len = d\n",
    "        self.particle_charge = q\n",
    "\n",
    "        #first electron\n",
    "        self.e1_x = self.particle_len * math.cos((math.pi / 180) * self.particle_angle)\n",
    "        self.e1_y = self.particle_len * math.sin((math.pi / 180) * self.particle_angle)\n",
    "\n",
    "        #2nd electron\n",
    "        if(self.particle_angle + 120 < 360):\n",
    "            self.e2_x = self.particle_len * math.cos((math.pi / 180) * (self.particle_angle + 120))\n",
    "            self.e2_y = self.particle_len * math.sin((math.pi / 180) * (self.particle_angle + 120))\n",
    "        else:\n",
    "            self.e2_x = self.particle_len * math.cos((math.pi / 180) * (self.particle_angle - 240))\n",
    "            self.e2_y = self.particle_len * math.sin((math.pi / 180) * (self.particle_angle - 240))\n",
    "\n",
    "        #3rd electron\n",
    "        if(self.particle_angle - 120 > 0):\n",
    "            self.e3_x = self.particle_len * math.cos((math.pi / 180) * (self.particle_angle - 120))\n",
    "            self.e3_y = self.particle_len * math.sin((math.pi / 180) * (self.particle_angle - 120))\n",
    "        else:\n",
    "            self.e3_x = self.particle_len * math.cos((math.pi / 180) * (self.particle_angle + 240))\n",
    "            self.e3_y = self.particle_len * math.sin((math.pi / 180) * (self.particle_angle + 240))"
   ]
  },
  {
   "cell_type": "markdown",
   "metadata": {},
   "source": [
    "### Functions for potential and energy for single reference potential"
   ]
  },
  {
   "cell_type": "code",
   "execution_count": 101,
   "metadata": {},
   "outputs": [],
   "source": [
    "def getPotential(p: particle, r: potential):\n",
    "    v1 = 1.0 / (math.sqrt(math.pow(r.point_x - p.e1_x, 2) + math.pow(r.point_y - p.e1_y, 2)))\n",
    "    v2 = 1.0 / (math.sqrt(math.pow(r.point_x - p.e2_x, 2) + math.pow(r.point_y - p.e2_y, 2)))\n",
    "    v3 = 1.0 / (math.sqrt(math.pow(r.point_x - p.e3_x, 2) + math.pow(r.point_y - p.e3_y, 2)))\n",
    "\n",
    "    return v1 + v2 + v3\n",
    "\n",
    "def getEnergy(p: particle, r: potential):\n",
    "    k_c = 8.9875517923 * 1.60217662 / 10\n",
    "\n",
    "    return k_c * r.point_charge * p.particle_charge * getPotential(p, r)"
   ]
  },
  {
   "cell_type": "markdown",
   "metadata": {},
   "source": [
    "### Overloading energy for multiple potentials"
   ]
  },
  {
   "cell_type": "code",
   "execution_count": 102,
   "metadata": {},
   "outputs": [],
   "source": [
    "def getEnergy(p: particle, pot: MUL_potential):\n",
    "    k_c = 8.9875517923 * 1.60217662 / 10\n",
    "    acc = 0\n",
    "\n",
    "    for i in range(0, len(pot.potentials)):\n",
    "        r = pot.potentials[i]\n",
    "        acc += k_c * r.point_charge * p.particle_charge * getPotential(p, r)\n",
    "\n",
    "    return acc"
   ]
  },
  {
   "cell_type": "markdown",
   "metadata": {},
   "source": [
    "### Function to rotate particle with single potential"
   ]
  },
  {
   "cell_type": "code",
   "execution_count": 103,
   "metadata": {},
   "outputs": [],
   "source": [
    "def tryRotating(p: particle, r: potential, alpha, T):\n",
    "    if(p.particle_angle + alpha >= 120):\n",
    "        alpha = alpha - 120\n",
    "    elif(p.particle_angle + alpha < 0):\n",
    "        alpha = alpha + 120\n",
    "\n",
    "    #create particle at new angle\n",
    "    p1 = particle(p.particle_angle + alpha, p.particle_len, p.particle_charge)\n",
    "\n",
    "    #get old and new energy\n",
    "    E_old = getEnergy(p, r)\n",
    "    E_new = getEnergy(p1, r)\n",
    "\n",
    "    #boltzmann constant in [eV/K]\n",
    "    k_b = 8.617333262145 * math.pow(10, -5)\n",
    "\n",
    "    #if new energy is lower than old, return new angle\n",
    "    if(E_new - E_old < 0):\n",
    "        return p1\n",
    "\n",
    "    else:\n",
    "        w = math.exp(-(E_new - E_old) / (T * k_b))\n",
    "        rand = random.random()\n",
    "\n",
    "        if(rand <= w):\n",
    "            return p1\n",
    "        else:\n",
    "            return p"
   ]
  },
  {
   "cell_type": "markdown",
   "metadata": {},
   "source": [
    "### Overloading rotation for multiple potentials"
   ]
  },
  {
   "cell_type": "code",
   "execution_count": 104,
   "metadata": {},
   "outputs": [],
   "source": [
    "def tryRotating(p: particle, pot: MUL_potential, alpha, T):\n",
    "    if(p.particle_angle + alpha >= 120):\n",
    "        alpha = alpha - 120\n",
    "    elif(p.particle_angle + alpha < 0):\n",
    "        alpha = alpha + 120\n",
    "\n",
    "    #create particle at new angle\n",
    "    p1 = particle(p.particle_angle + alpha, p.particle_len, p.particle_charge)\n",
    "\n",
    "    #get old and new energy\n",
    "    E_old = getEnergy(p, pot)\n",
    "    E_new = getEnergy(p1, pot)\n",
    "\n",
    "    #boltzmann constant in [eV/K]\n",
    "    k_b = 8.617333262145 * math.pow(10, -5)\n",
    "\n",
    "    #if new energy is lower than old, return new angle\n",
    "    if(E_new - E_old < 0):\n",
    "        return p1\n",
    "\n",
    "    else:\n",
    "        w = math.exp(-(E_new - E_old) / (T * k_b))\n",
    "        rand = random.random()\n",
    "\n",
    "        if(rand <= w):\n",
    "            return p1\n",
    "        else:\n",
    "            return p"
   ]
  },
  {
   "cell_type": "markdown",
   "metadata": {},
   "source": [
    "### Physical constants and variables for simulation"
   ]
  },
  {
   "cell_type": "code",
   "execution_count": 105,
   "metadata": {},
   "outputs": [],
   "source": [
    "#physical stuff - charge is in [e], distances are in [nm]\n",
    "phi = 0.5\n",
    "T = pow(10, -4)\n",
    "\n",
    "#multipliers for particle\n",
    "d1 = 0.2\n",
    "Q2 = 0.5\n",
    "\n",
    "#multipliers for potential\n",
    "d2 = 10\n",
    "pot_x = np.array([d2, d2 * math.cos((math.pi / 180) * 120), d2 * math.cos((math.pi / 180) * 240)])\n",
    "pot_y = np.array([0, d2 * math.sin((math.pi / 180) * 120), d2 * math.sin((math.pi / 180) * 240)])\n",
    "Q1 = -300\n",
    "pot_q = np.array([Q1, Q1, Q1])\n",
    "AngleInt = int(120 / phi)\n",
    "\n",
    "#MC steps\n",
    "mc = 2000000"
   ]
  },
  {
   "cell_type": "markdown",
   "metadata": {},
   "source": [
    "### Creation of particle and reference potentials"
   ]
  },
  {
   "cell_type": "code",
   "execution_count": 106,
   "metadata": {},
   "outputs": [],
   "source": [
    "p = particle(0, d1, Q2)\n",
    "ref = MUL_potential(pot_x, pot_y, pot_q)"
   ]
  },
  {
   "cell_type": "markdown",
   "metadata": {},
   "source": [
    "### Array to keep track of particle position and energy for quick plotting"
   ]
  },
  {
   "cell_type": "code",
   "execution_count": 107,
   "metadata": {},
   "outputs": [],
   "source": [
    "#count based on angle\n",
    "avg = np.array([])\n",
    "for i in range(0, int(120 / phi)):\n",
    "    avg = np.append(avg, 0.0)\n",
    "\n",
    "#energy based on MC step\n",
    "en_mc = np.array([])\n",
    "\n",
    "#angle based on MC step\n",
    "ang_mc = np.array([])"
   ]
  },
  {
   "cell_type": "markdown",
   "metadata": {},
   "source": [
    "### Opening files to append"
   ]
  },
  {
   "cell_type": "code",
   "execution_count": 108,
   "metadata": {},
   "outputs": [],
   "source": [
    "#checking which run we're on\n",
    "for i in range(0, 1000):\n",
    "    if(exists('Results\\\\' + str(i) + '_Angle_Count.csv') == False):\n",
    "        run = i\n",
    "        break\n",
    "\n",
    "#positions of potentials\n",
    "R = \"\"\n",
    "for i in range(0, len(pot_x)):\n",
    "    R += \"(\" + str(pot_x[i]) + \", \" + str(pot_y[i]) + \")\"\n",
    "\n",
    "#save parameters\n",
    "params = open('Results\\parameters.txt', 'a+')\n",
    "params.write(\"\\n===========\\n\")\n",
    "params.write(\"Run \" + str(run) +  \"\\n===========\\n\")\n",
    "params.write(\"Q1 = \" + str(Q1) + \"\\nQ2 = \" + str(Q2) + \"\\nd = \" + str(d1) + \"\\nR = \" + R + \" \\nphi = \" + str(phi) + \"\\nT = \" + str(T))\n",
    "params.close()"
   ]
  },
  {
   "cell_type": "markdown",
   "metadata": {},
   "source": [
    "### Main loop for rotating particle"
   ]
  },
  {
   "cell_type": "code",
   "execution_count": 109,
   "metadata": {},
   "outputs": [
    {
     "name": "stdout",
     "output_type": "stream",
     "text": [
      "Iteration progress:\t0\n",
      "Iteration progress:\t100000\n",
      "Iteration progress:\t200000\n",
      "Iteration progress:\t300000\n",
      "Iteration progress:\t400000\n",
      "Iteration progress:\t500000\n",
      "Iteration progress:\t600000\n",
      "Iteration progress:\t700000\n",
      "Iteration progress:\t800000\n",
      "Iteration progress:\t900000\n",
      "Iteration progress:\t1000000\n",
      "Iteration progress:\t1100000\n",
      "Iteration progress:\t1200000\n",
      "Iteration progress:\t1300000\n",
      "Iteration progress:\t1400000\n",
      "Iteration progress:\t1500000\n",
      "Iteration progress:\t1600000\n",
      "Iteration progress:\t1700000\n",
      "Iteration progress:\t1800000\n",
      "Iteration progress:\t1900000\n"
     ]
    }
   ],
   "source": [
    "for i in range(0, mc):\n",
    "\n",
    "    #generate random number to check which way we're gonna rotate\n",
    "    rng = random.random()\n",
    "\n",
    "    #get energy so we can write it to file\n",
    "    if(i >= 10000 and i < 100000):\n",
    "        en_mc = np.append(en_mc, getEnergy(p, ref))\n",
    "        ang_mc = np.append(ang_mc, p.particle_angle)\n",
    "    \n",
    "    #rotate counter-clockwise\n",
    "    if(rng > 0.5):\n",
    "        p = tryRotating(p, ref, phi, T)\n",
    "\n",
    "    #rotate clockwise\n",
    "    else:\n",
    "        p = tryRotating(p, ref, -phi, T)\n",
    "\n",
    "    #increase the count of new angle by 1\n",
    "    ite = int(p.particle_angle / phi)\n",
    "    avg[ite] += 1.0\n",
    "\n",
    "    #write iteration progress\n",
    "    if(i % 100000 == 0):\n",
    "        print(\"Iteration progress:\\t\" + str(i))\n",
    "\n",
    "#normalize the count at each angle\n",
    "for i in range(0, len(avg)):\n",
    "    avg[i] = avg[i] / mc"
   ]
  },
  {
   "cell_type": "markdown",
   "metadata": {},
   "source": [
    "### Save to file"
   ]
  },
  {
   "cell_type": "code",
   "execution_count": 110,
   "metadata": {},
   "outputs": [],
   "source": [
    "### Energy based on mc step\n",
    "index = np.arange(10000, 100000, 1, dtype = int)\n",
    "en_mc = pd.DataFrame(en_mc, columns = ['Energy'])\n",
    "en_mc = en_mc.set_index(index)\n",
    "pd.DataFrame.to_csv(en_mc, 'Results\\\\' + str(run) + '_MC_Energy.csv')\n",
    "\n",
    "### Angle based on mc step\n",
    "ang_mc = pd.DataFrame(ang_mc, columns = ['Angle'])\n",
    "ang_mc = ang_mc.set_index(index)\n",
    "pd.DataFrame.to_csv(ang_mc, 'Results\\\\' + str(run) + '_MC_Count.csv')\n",
    "\n",
    "\n",
    "### Count of times particle was at particular angle\n",
    "index = np.arange(0, 120, phi, dtype = float)\n",
    "avg = pd.DataFrame(avg, columns = ['Count'])\n",
    "avg = avg.set_index(index)\n",
    "pd.DataFrame.to_csv(avg, 'Results\\\\' + str(run) + '_Angle_Count.csv')"
   ]
  },
  {
   "cell_type": "markdown",
   "metadata": {},
   "source": [
    "### Graph of energy dependence on MC step"
   ]
  },
  {
   "cell_type": "code",
   "execution_count": 111,
   "metadata": {},
   "outputs": [
    {
     "data": {
      "text/plain": [
       "[<matplotlib.lines.Line2D at 0x25e93de4370>]"
      ]
     },
     "execution_count": 111,
     "metadata": {},
     "output_type": "execute_result"
    },
    {
     "data": {
      "image/png": "[encoded data removed]",
      "text/plain": [
       "<Figure size 1440x864 with 1 Axes>"
      ]
     },
     "metadata": {
      "needs_background": "light"
     },
     "output_type": "display_data"
    }
   ],
   "source": [
    "plt.figure(figsize = (20, 12))\n",
    "plt.plot(en_mc, marker = \"o\", color = \"black\")"
   ]
  },
  {
   "cell_type": "markdown",
   "metadata": {},
   "source": [
    "### Graph of Count of particle based on angle"
   ]
  },
  {
   "cell_type": "code",
   "execution_count": 112,
   "metadata": {},
   "outputs": [
    {
     "data": {
      "text/plain": [
       "[<matplotlib.lines.Line2D at 0x25e988134f0>]"
      ]
     },
     "execution_count": 112,
     "metadata": {},
     "output_type": "execute_result"
    },
    {
     "data": {
      "image/png": "[encoded data removed]",
      "text/plain": [
       "<Figure size 1440x864 with 1 Axes>"
      ]
     },
     "metadata": {
      "needs_background": "light"
     },
     "output_type": "display_data"
    }
   ],
   "source": [
    "plt.figure(figsize = (20, 12))\n",
    "plt.plot(avg, marker = \"o\", color = \"black\")"
   ]
  },
  {
   "cell_type": "markdown",
   "metadata": {},
   "source": [
    "### Energy dependence on angle"
   ]
  },
  {
   "cell_type": "code",
   "execution_count": 113,
   "metadata": {},
   "outputs": [],
   "source": [
    "df = np.array([])\n",
    "index = np.array([])\n",
    "\n",
    "for i in range(0, AngleInt):\n",
    "    p = particle(i * phi, d1, Q2)\n",
    "    df = np.append(df, getEnergy(p, ref))\n",
    "    index = np.append(index, i * phi)\n",
    "\n",
    "#convert to pandas dataframe\n",
    "df = pd.DataFrame(df, columns = ['Energy'])\n",
    "df = df.set_index(index)\n",
    "\n",
    "#save to csv\n",
    "pd.DataFrame.to_csv(df, 'Results\\\\' + str(run) + '_Angle_Energy.csv')"
   ]
  },
  {
   "cell_type": "markdown",
   "metadata": {},
   "source": [
    "### Graph of Energy dependence on angle"
   ]
  },
  {
   "cell_type": "code",
   "execution_count": 114,
   "metadata": {},
   "outputs": [
    {
     "data": {
      "text/plain": [
       "[<matplotlib.lines.Line2D at 0x25e93e2dd00>]"
      ]
     },
     "execution_count": 114,
     "metadata": {},
     "output_type": "execute_result"
    },
    {
     "data": {
      "image/png": "[encoded data removed]",
      "text/plain": [
       "<Figure size 1440x864 with 1 Axes>"
      ]
     },
     "metadata": {
      "needs_background": "light"
     },
     "output_type": "display_data"
    }
   ],
   "source": [
    "plt.figure(figsize = (20, 12))\n",
    "plt.plot(df, marker = \"o\", color = \"black\")"
   ]
  }
 ],
 "metadata": {
  "interpreter": {
   "hash": "86c2c867e78863a60e64bea1f2d56ebc9d5225f53ae6e6c58059e4ad08fe36f1"
  },
  "kernelspec": {
   "display_name": "Python 3.9.2 64-bit",
   "language": "python",
   "name": "python3"
  },
  "language_info": {
   "codemirror_mode": {
    "name": "ipython",
    "version": 3
   },
   "file_extension": ".py",
   "mimetype": "text/x-python",
   "name": "python",
   "nbconvert_exporter": "python",
   "pygments_lexer": "ipython3",
   "version": "3.9.2"
  },
  "orig_nbformat": 4
 },
 "nbformat": 4,
 "nbformat_minor": 2
}
