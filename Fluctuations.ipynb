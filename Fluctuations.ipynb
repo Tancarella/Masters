{
 "cells": [
  {
   "cell_type": "code",
   "execution_count": 56,
   "metadata": {},
   "outputs": [],
   "source": [
    "import math\n",
    "import random\n",
    "import pandas as pd\n",
    "import numpy as np\n",
    "import matplotlib.pyplot as plt\n",
    "from os.path import exists"
   ]
  },
  {
   "cell_type": "markdown",
   "metadata": {},
   "source": [
    "### Definition of reference potential"
   ]
  },
  {
   "cell_type": "code",
   "execution_count": 57,
   "metadata": {},
   "outputs": [],
   "source": [
    "class potential:\n",
    "    def __init__(self, x, y, q):\n",
    "        self.point_x = x\n",
    "        self.point_y = y\n",
    "        self.point_charge = q"
   ]
  },
  {
   "cell_type": "markdown",
   "metadata": {},
   "source": [
    "### Object for many potentials"
   ]
  },
  {
   "cell_type": "code",
   "execution_count": 58,
   "metadata": {},
   "outputs": [],
   "source": [
    "class MUL_potential:\n",
    "    def __init__(self, x_arr: np.array([]), y_arr: np.array([]), charge_arr: np.array([])):\n",
    "        if(len(x_arr) != len(y_arr) or len(x_arr) != len(charge_arr)):\n",
    "            print(\"Can't initialize using arrays of different length.\")\n",
    "\n",
    "        else:\n",
    "            self.potentials = np.array([])\n",
    "\n",
    "            for i in range(0, len(x_arr)):\n",
    "                self.potentials = np.append(self.potentials, potential(x_arr[i], y_arr[i], charge_arr[i]))"
   ]
  },
  {
   "cell_type": "markdown",
   "metadata": {},
   "source": [
    "### Definition of particle"
   ]
  },
  {
   "cell_type": "code",
   "execution_count": 59,
   "metadata": {},
   "outputs": [],
   "source": [
    "class particle:\n",
    "    def __init__(self, alpha, d, q):\n",
    "        self.particle_angle = alpha\n",
    "        self.particle_len = d\n",
    "        self.particle_charge = q\n",
    "\n",
    "        #first electron\n",
    "        self.e1_x = self.particle_len * math.cos((math.pi / 180) * self.particle_angle)\n",
    "        self.e1_y = self.particle_len * math.sin((math.pi / 180) * self.particle_angle)\n",
    "\n",
    "        #2nd electron\n",
    "        self.e2_x = self.particle_len * math.cos((math.pi / 180) * (self.particle_angle + 120))\n",
    "        self.e2_y = self.particle_len * math.sin((math.pi / 180) * (self.particle_angle + 120))\n",
    "\n",
    "        #3rd electron\n",
    "        self.e3_x = self.particle_len * math.cos((math.pi / 180) * (self.particle_angle + 240))\n",
    "        self.e3_y = self.particle_len * math.sin((math.pi / 180) * (self.particle_angle + 240))"
   ]
  },
  {
   "cell_type": "markdown",
   "metadata": {},
   "source": [
    "### Functions for potential and energy for single reference potential"
   ]
  },
  {
   "cell_type": "code",
   "execution_count": 60,
   "metadata": {},
   "outputs": [],
   "source": [
    "def getPotential(p: particle, r: potential):\n",
    "    v1 = 1.0 / (math.sqrt(math.pow(r.point_x - p.e1_x, 2) + math.pow(r.point_y - p.e1_y, 2)))\n",
    "    v2 = 1.0 / (math.sqrt(math.pow(r.point_x - p.e2_x, 2) + math.pow(r.point_y - p.e2_y, 2)))\n",
    "    v3 = 1.0 / (math.sqrt(math.pow(r.point_x - p.e3_x, 2) + math.pow(r.point_y - p.e3_y, 2)))\n",
    "\n",
    "    return v1 + v2 + v3\n",
    "\n",
    "def getEnergy(p: particle, r: potential):\n",
    "    k_c = 8.9875517923 * 1.60217662 / 10\n",
    "\n",
    "    return k_c * r.point_charge * p.particle_charge * getPotential(p, r)"
   ]
  },
  {
   "cell_type": "markdown",
   "metadata": {},
   "source": [
    "### Energy for multiple potentials"
   ]
  },
  {
   "cell_type": "code",
   "execution_count": 61,
   "metadata": {},
   "outputs": [],
   "source": [
    "def getEnergy_MUL(p: particle, pot: MUL_potential):\n",
    "    k_c = 8.9875517923 * 1.60217662 / 10\n",
    "    acc = 0\n",
    "\n",
    "    for i in range(0, len(pot.potentials)):\n",
    "        r = pot.potentials[i]\n",
    "        acc += k_c * r.point_charge * p.particle_charge * getPotential(p, r)\n",
    "\n",
    "    return acc"
   ]
  },
  {
   "cell_type": "markdown",
   "metadata": {},
   "source": [
    "### Function to rotate particle with single potential"
   ]
  },
  {
   "cell_type": "code",
   "execution_count": 62,
   "metadata": {},
   "outputs": [],
   "source": [
    "def tryRotating(p: particle, r: potential, alpha, T):\n",
    "    #create particle at new angle\n",
    "    p1 = particle(p.particle_angle + alpha, p.particle_len, p.particle_charge)\n",
    "\n",
    "    #get old and new energy\n",
    "    E_old = getEnergy(p, r)\n",
    "    E_new = getEnergy(p1, r)\n",
    "\n",
    "    #boltzmann constant in [eV/K]\n",
    "    k_b = 8.617333262145 * math.pow(10, -5)\n",
    "\n",
    "    #if new energy is lower than old, return new angle\n",
    "    if(E_new - E_old < 0):\n",
    "        return p1\n",
    "\n",
    "    else:\n",
    "        w = math.exp(-(E_new - E_old) / (T * k_b))\n",
    "        rand = random.random()\n",
    "\n",
    "        if(rand <= w):\n",
    "            return p1\n",
    "        else:\n",
    "            return p"
   ]
  },
  {
   "cell_type": "markdown",
   "metadata": {},
   "source": [
    "### Rotating for multiple potentials"
   ]
  },
  {
   "cell_type": "code",
   "execution_count": 63,
   "metadata": {},
   "outputs": [],
   "source": [
    "def tryRotating_MUL(p: particle, pot: MUL_potential, alpha, T):\n",
    "    #create particle at new angle\n",
    "    p1 = particle(p.particle_angle + alpha, p.particle_len, p.particle_charge)\n",
    "\n",
    "    #get old and new energy\n",
    "    E_old = getEnergy_MUL(p, pot)\n",
    "    E_new = getEnergy_MUL(p1, pot)\n",
    "\n",
    "    #boltzmann constant in [eV/K]\n",
    "    k_b = 8.617333262145 * math.pow(10, -5)\n",
    "\n",
    "    #if new energy is lower than old, return new angle\n",
    "    if(E_new - E_old < 0):\n",
    "        return p1\n",
    "\n",
    "    else:\n",
    "        w = math.exp(-(E_new - E_old) / (T * k_b))\n",
    "        rand = random.random()\n",
    "\n",
    "        if(rand <= w):\n",
    "            return p1\n",
    "        else:\n",
    "            return p"
   ]
  },
  {
   "cell_type": "markdown",
   "metadata": {},
   "source": [
    "### Order parameter"
   ]
  },
  {
   "cell_type": "code",
   "execution_count": 64,
   "metadata": {},
   "outputs": [],
   "source": [
    "def order_ite(p: particle):\n",
    "    cos_ite = round(math.cos((math.pi / 180) * (3 * p.particle_angle)), 5)\n",
    "    sin_ite = round(math.sin((math.pi / 180) * (3 * p.particle_angle)), 5)\n",
    "\n",
    "    return cos_ite, sin_ite\n",
    "\n",
    "def order_full(cos, sin, steps):\n",
    "    thet = 0.0\n",
    "\n",
    "    #get mean\n",
    "    cos = cos / steps\n",
    "    sin = sin / steps\n",
    "\n",
    "    #get theta\n",
    "    thet = math.atan(sin / cos)\n",
    "\n",
    "    #cube them\n",
    "    cos = math.pow(cos, 2)\n",
    "    sin = math.pow(sin, 2)\n",
    "\n",
    "    return cos + sin, thet"
   ]
  },
  {
   "cell_type": "markdown",
   "metadata": {},
   "source": [
    "### Fluctuations"
   ]
  },
  {
   "cell_type": "code",
   "execution_count": 65,
   "metadata": {},
   "outputs": [],
   "source": [
    "def fluct(arr_x: np.array, arr_y: np.array, delta):\n",
    "    for i in range(len(arr_x)):\n",
    "        k = True\n",
    "\n",
    "        while(k == True):\n",
    "            x = delta * (2 * random.random() - 1.0)\n",
    "            y = delta * (2 * random.random() - 1.0)\n",
    "\n",
    "            if(x**2 + y**2 <= delta):\n",
    "                k = False\n",
    "        \n",
    "        arr_x[i] += x\n",
    "        arr_y[i] += y\n",
    "\n",
    "    return arr_x, arr_y"
   ]
  },
  {
   "cell_type": "markdown",
   "metadata": {},
   "source": [
    "### Physical constants and variables for simulation"
   ]
  },
  {
   "cell_type": "code",
   "execution_count": 66,
   "metadata": {},
   "outputs": [],
   "source": [
    "#physical stuff - charge is in [e], distances are in [nm]\n",
    "phi = 0.5\n",
    "T = 5 * pow(10, -3)\n",
    "\n",
    "#multipliers for particle\n",
    "d1 = 0.2\n",
    "Q2 = 0.5\n",
    "Q1 = -300\n",
    "pot_q = np.array([Q1, Q1, Q1])\n",
    "\n",
    "AngleInt = int(60 / phi)\n",
    "\n",
    "#MC steps\n",
    "mc = 2000000"
   ]
  },
  {
   "cell_type": "markdown",
   "metadata": {},
   "source": [
    "### Main loop to generate order parameters"
   ]
  },
  {
   "cell_type": "code",
   "execution_count": 67,
   "metadata": {},
   "outputs": [
    {
     "name": "stdout",
     "output_type": "stream",
     "text": [
      "\n",
      "Currently running R = 30\n",
      "\n",
      "Delta = 1\n",
      "Order parameter = 0.9649036664909579\n",
      "Order parameter = 0.9680288777873279\n",
      "Order parameter = 0.968420384083408\n",
      "Order parameter = 0.9693030984721502\n",
      "Order parameter = 0.9686612838656123\n",
      "\n",
      "Delta = 5\n",
      "Order parameter = 0.9748815743355184\n",
      "Order parameter = 0.9771635748048126\n",
      "Order parameter = 0.9742791104544035\n",
      "Order parameter = 0.975640112441051\n",
      "Order parameter = 0.9785649709337162\n",
      "\n",
      "Delta = 10\n",
      "Order parameter = 0.9742194384428959\n",
      "Order parameter = 0.9775505403530562\n",
      "Order parameter = 0.9795598973868871\n",
      "Order parameter = 0.9814380034075542\n",
      "Order parameter = 0.9818402927172475\n",
      "\n",
      "Currently running R = 60\n",
      "\n",
      "Delta = 1\n",
      "Order parameter = 0.45184026394608123\n",
      "Order parameter = 0.4448880846183133\n",
      "Order parameter = 0.4369777155594872\n",
      "Order parameter = 0.4120341603554642\n",
      "Order parameter = 0.452487048135191\n",
      "\n",
      "Delta = 5\n",
      "Order parameter = 0.43582762469115494\n",
      "Order parameter = 0.4177859270782327\n",
      "Order parameter = 0.4176904711794308\n",
      "Order parameter = 0.42781394629928304\n",
      "Order parameter = 0.3849764781971887\n",
      "\n",
      "Delta = 10\n",
      "Order parameter = 0.41886985420719847\n",
      "Order parameter = 0.4290113204135792\n",
      "Order parameter = 0.44268200122137225\n",
      "Order parameter = 0.4449910732590074\n",
      "Order parameter = 0.46831818076969084\n",
      "\n",
      "Currently running R = 90\n",
      "\n",
      "Delta = 1\n",
      "Order parameter = 0.02577470322849871\n",
      "Order parameter = 0.033318472402747844\n",
      "Order parameter = 0.02411715326457476\n",
      "Order parameter = 0.046539514993565866\n",
      "Order parameter = 0.0278482265307999\n",
      "\n",
      "Delta = 5\n",
      "Order parameter = 0.03143166124960502\n",
      "Order parameter = 0.022278997218783243\n",
      "Order parameter = 0.01331816171722763\n",
      "Order parameter = 0.05226817992529685\n",
      "Order parameter = 0.038936867348588484\n",
      "\n",
      "Delta = 10\n",
      "Order parameter = 0.028974856698133985\n",
      "Order parameter = 0.02263078402612667\n",
      "Order parameter = 0.0384482228376155\n",
      "Order parameter = 0.017627666667141585\n",
      "Order parameter = 0.01257850626681556\n"
     ]
    }
   ],
   "source": [
    "d2 = [30, 60, 90]\n",
    "delta = [1, 5, 10]\n",
    "\n",
    "#array to keep order parameters\n",
    "vals = np.array([])\n",
    "\n",
    "#generate particle\n",
    "p = particle(0, d1, Q2)\n",
    "\n",
    "#loop for base distances\n",
    "for i in d2:\n",
    "    print()\n",
    "    print('Currently running R = ' + str(i))\n",
    "\n",
    "    #generate base distances of point sources\n",
    "    pot_x = np.array([i, i * math.cos((math.pi / 180) * 120), i * math.cos((math.pi / 180) * 240)])\n",
    "    pot_y = np.array([0, i * math.sin((math.pi / 180) * 120), i * math.sin((math.pi / 180) * 240)])\n",
    "\n",
    "    #loop for fluctuations\n",
    "    for j in delta:\n",
    "        print()\n",
    "        print('Delta = ' + str(j))\n",
    "\n",
    "        #loop to run the same variables a few times\n",
    "        for k in range(5):\n",
    "            #introduce fluctuations to starting positions\n",
    "            fluct_x, fluct_y = fluct(pot_x, pot_y, j)   \n",
    "\n",
    "            #generate point sources\n",
    "            ref = MUL_potential(fluct_x, fluct_y, pot_q)\n",
    "\n",
    "            #order parameter\n",
    "            cos = 0\n",
    "            sin = 0\n",
    "\n",
    "            for n in range(0, mc):\n",
    "\n",
    "                #generate random number to check which way we're gonna rotate\n",
    "                rng = random.random()\n",
    "\n",
    "                #rotate counter-clockwise\n",
    "                if(rng > 0.5):\n",
    "                    p = tryRotating_MUL(p, ref, phi, T)\n",
    "                #rotate clockwise\n",
    "                else:\n",
    "                    p = tryRotating_MUL(p, ref, -phi, T)\n",
    "\n",
    "                #calculate cos and sin for order parameter\n",
    "                cos_ite, sin_ite = order_ite(p)\n",
    "                cos += cos_ite\n",
    "                sin += sin_ite \n",
    "\n",
    "            #order parameter and theta\n",
    "            order, theta = order_full(cos, sin, mc)\n",
    "\n",
    "            #append values to array\n",
    "            vals = np.append(vals, [i, j, order, theta])\n",
    "\n",
    "            print('Order parameter = ' + str(order))"
   ]
  },
  {
   "cell_type": "markdown",
   "metadata": {},
   "source": [
    "### Opening file to append"
   ]
  },
  {
   "cell_type": "code",
   "execution_count": 78,
   "metadata": {},
   "outputs": [
    {
     "data": {
      "text/plain": [
       "45"
      ]
     },
     "execution_count": 78,
     "metadata": {},
     "output_type": "execute_result"
    }
   ],
   "source": [
    "r_loop = np.array([])\n",
    "delta_loop = np.array([])\n",
    "order_loop = np.array([])\n",
    "theta_loop = np.array([])\n",
    "\n",
    "\n",
    "for i in range(int(len(vals) / 4)):\n",
    "    r_loop = np.append(r_loop, vals[4 * i])\n",
    "    delta_loop = np.append(delta_loop, vals[(4 * i) + 1])\n",
    "    order_loop = np.append(order_loop, vals[(4 * i) + 2])\n",
    "    theta_loop = np.append(theta_loop, vals[(4 * i) + 3])"
   ]
  },
  {
   "cell_type": "code",
   "execution_count": 80,
   "metadata": {},
   "outputs": [],
   "source": [
    "vals = pd.DataFrame(r_loop, columns = ['R'])\n",
    "vals['Delta'] = delta_loop\n",
    "vals['Order'] = order_loop\n",
    "vals['Theta'] = theta_loop\n",
    "pd.DataFrame.to_csv(vals, 'Results\\\\Fluctuations.csv')"
   ]
  },
  {
   "cell_type": "code",
   "execution_count": null,
   "metadata": {},
   "outputs": [],
   "source": []
  }
 ],
 "metadata": {
  "interpreter": {
   "hash": "5677aaa8b34c3910b169768a372bbe73d30c6da2d513ea3316285c9a352b0062"
  },
  "kernelspec": {
   "display_name": "Python 3.9.7 ('base')",
   "language": "python",
   "name": "python3"
  },
  "language_info": {
   "codemirror_mode": {
    "name": "ipython",
    "version": 3
   },
   "file_extension": ".py",
   "mimetype": "text/x-python",
   "name": "python",
   "nbconvert_exporter": "python",
   "pygments_lexer": "ipython3",
   "version": "3.9.7"
  },
  "orig_nbformat": 4
 },
 "nbformat": 4,
 "nbformat_minor": 2
}
